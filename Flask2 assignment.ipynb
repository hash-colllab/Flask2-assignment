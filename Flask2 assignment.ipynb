{
  "metadata": {
    "kernelspec": {
      "name": "python",
      "display_name": "Python (Pyodide)",
      "language": "python"
    },
    "language_info": {
      "codemirror_mode": {
        "name": "python",
        "version": 3
      },
      "file_extension": ".py",
      "mimetype": "text/x-python",
      "name": "python",
      "nbconvert_exporter": "python",
      "pygments_lexer": "ipython3",
      "version": "3.8"
    }
  },
  "nbformat_minor": 4,
  "nbformat": 4,
  "cells": [
    {
      "cell_type": "code",
      "source": "# ANS 1:-  GET method is mainly used on the client (Browser) side to send a request to a specified server to get certain\n# data or resources. Using this method the server should only let us receive the data and not change its state.\n# POST method  is mainly used at the client (Browser) side to send data to a Specified server in order to create or rewrite\n# a particular resource/data. This data sent to the server is stored in the request body of the HTTP request.",
      "metadata": {
        "trusted": true
      },
      "outputs": [],
      "execution_count": 1
    },
    {
      "cell_type": "code",
      "source": "# ANS 2:- The Request, in Flask, is an object that contains all the data sent from the Client to Server. This data can be\n# recovered using the GET/POST Methods.",
      "metadata": {
        "trusted": true
      },
      "outputs": [],
      "execution_count": 2
    },
    {
      "cell_type": "code",
      "source": "# ANS 3:- A redirect is used in the Flask class to send the user to a particular URL with the status code.\n# When we access a website, our browser sends a request to the server, and the server replies with what is known as\n# the HTTP status code, which is a three-digit number.",
      "metadata": {
        "trusted": true
      },
      "outputs": [],
      "execution_count": 3
    },
    {
      "cell_type": "code",
      "source": "# ANS 4:- A flask template is a template of a webpage that can be used by web developers to reduce the hectic work of\n# writing the code for each webpage of a website.\n# To render a template we call render_template() with the template name along with the data you want to pass to the\n# template as keyword arguments. The render_template() function renders the template and returns HTML as a string.",
      "metadata": {
        "trusted": true
      },
      "outputs": [],
      "execution_count": 4
    },
    {
      "cell_type": "code",
      "source": "",
      "metadata": {
        "trusted": true
      },
      "outputs": [],
      "execution_count": null
    }
  ]
}